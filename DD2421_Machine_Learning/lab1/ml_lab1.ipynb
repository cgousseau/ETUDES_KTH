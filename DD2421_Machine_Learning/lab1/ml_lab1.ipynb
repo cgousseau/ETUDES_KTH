{
 "cells": [
  {
   "cell_type": "code",
   "execution_count": 1,
   "metadata": {
    "collapsed": true
   },
   "outputs": [],
   "source": [
    "import matplotlib\n",
    "import numpy as np\n",
    "import matplotlib.pyplot as plt\n",
    "import scipy\n",
    "import sklearn\n",
    "import seaborn"
   ]
  },
  {
   "cell_type": "code",
   "execution_count": 2,
   "metadata": {
    "collapsed": true
   },
   "outputs": [],
   "source": [
    "from dtree import *\n",
    "import monkdata as m\n",
    "from drawtree_qt5 import *"
   ]
  },
  {
   "cell_type": "markdown",
   "metadata": {},
   "source": [
    "# 2. Monk data set"
   ]
  },
  {
   "cell_type": "markdown",
   "metadata": {},
   "source": [
    "### Assignment 0"
   ]
  },
  {
   "cell_type": "markdown",
   "metadata": {},
   "source": [
    "Sample monk3 has additional noise and complex model (6 parameters).\n"
   ]
  },
  {
   "cell_type": "markdown",
   "metadata": {},
   "source": [
    "# 3. Entropy"
   ]
  },
  {
   "cell_type": "markdown",
   "metadata": {},
   "source": [
    "### Assignment 1"
   ]
  },
  {
   "cell_type": "markdown",
   "metadata": {},
   "source": [
    "Calculation of the entropy with function entropy"
   ]
  },
  {
   "cell_type": "code",
   "execution_count": 3,
   "metadata": {},
   "outputs": [
    {
     "data": {
      "text/plain": [
       "1.0"
      ]
     },
     "execution_count": 3,
     "metadata": {},
     "output_type": "execute_result"
    }
   ],
   "source": [
    "m1=m.monk1\n",
    "entropy(m1)"
   ]
  },
  {
   "cell_type": "code",
   "execution_count": 4,
   "metadata": {},
   "outputs": [
    {
     "data": {
      "text/plain": [
       "0.957117428264771"
      ]
     },
     "execution_count": 4,
     "metadata": {},
     "output_type": "execute_result"
    }
   ],
   "source": [
    "m2=m.monk2\n",
    "entropy(m2)"
   ]
  },
  {
   "cell_type": "code",
   "execution_count": 5,
   "metadata": {},
   "outputs": [
    {
     "data": {
      "text/plain": [
       "0.9998061328047111"
      ]
     },
     "execution_count": 5,
     "metadata": {},
     "output_type": "execute_result"
    }
   ],
   "source": [
    "m3=m.monk3\n",
    "entropy(m3)"
   ]
  },
  {
   "cell_type": "markdown",
   "metadata": {},
   "source": [
    "### Assignment 2"
   ]
  },
  {
   "cell_type": "markdown",
   "metadata": {},
   "source": [
    "Entropy is a measure of uncertainty."
   ]
  },
  {
   "cell_type": "markdown",
   "metadata": {},
   "source": [
    "Entropy is maximized with a uniform distribution.\n",
    "\n",
    "Let's consider a dice. \n",
    "\n",
    "With a real dice,  $entropy=-6*\\frac{1}{6}*log2(\\frac{1}{6})=2.58$. \n",
    "\n",
    "With a fake dice where p1=0.1, p2=0.1, ..., p5=0.1 and p6=0.5,  $entropy=-5*0.1*log2(0.1)-1*0.5*log2(0.5)=2.16$.  \n",
    "\n",
    "The entropy is greater with real dice"
   ]
  },
  {
   "cell_type": "markdown",
   "metadata": {},
   "source": [
    "# 4. Information gain"
   ]
  },
  {
   "cell_type": "markdown",
   "metadata": {},
   "source": [
    "we compute the information gain for each dataset and each attribute"
   ]
  },
  {
   "cell_type": "markdown",
   "metadata": {},
   "source": [
    "### For monk1"
   ]
  },
  {
   "cell_type": "code",
   "execution_count": 6,
   "metadata": {},
   "outputs": [
    {
     "name": "stdout",
     "output_type": "stream",
     "text": [
      "Attribute 1: 0.07527255560831925\n",
      "Attribute 2: 0.005838429962909286\n",
      "Attribute 3: 0.00470756661729721\n",
      "Attribute 4: 0.02631169650768228\n",
      "Attribute 5: 0.28703074971578435\n",
      "Attribute 6: 0.0007578557158638421\n"
     ]
    }
   ],
   "source": [
    "m1=m.monk1\n",
    "print(\"Attribute 1:\",averageGain(m1,m.attributes[0]))\n",
    "print(\"Attribute 2:\",averageGain(m1,m.attributes[1]))\n",
    "print(\"Attribute 3:\",averageGain(m1,m.attributes[2]))\n",
    "print(\"Attribute 4:\",averageGain(m1,m.attributes[3]))\n",
    "print(\"Attribute 5:\",averageGain(m1,m.attributes[4]))\n",
    "print(\"Attribute 6:\",averageGain(m1,m.attributes[5]))"
   ]
  },
  {
   "cell_type": "markdown",
   "metadata": {},
   "source": [
    "### For monk2"
   ]
  },
  {
   "cell_type": "code",
   "execution_count": 7,
   "metadata": {},
   "outputs": [
    {
     "name": "stdout",
     "output_type": "stream",
     "text": [
      "Attribute 1: 0.0037561773775118823\n",
      "Attribute 2: 0.0024584986660830532\n",
      "Attribute 3: 0.0010561477158920196\n",
      "Attribute 4: 0.015664247292643818\n",
      "Attribute 5: 0.01727717693791797\n",
      "Attribute 6: 0.006247622236881467\n"
     ]
    }
   ],
   "source": [
    "m2=m.monk2\n",
    "print(\"Attribute 1:\",averageGain(m2,m.attributes[0]))\n",
    "print(\"Attribute 2:\",averageGain(m2,m.attributes[1]))\n",
    "print(\"Attribute 3:\",averageGain(m2,m.attributes[2]))\n",
    "print(\"Attribute 4:\",averageGain(m2,m.attributes[3]))\n",
    "print(\"Attribute 5:\",averageGain(m2,m.attributes[4]))\n",
    "print(\"Attribute 6:\",averageGain(m2,m.attributes[5]))"
   ]
  },
  {
   "cell_type": "markdown",
   "metadata": {},
   "source": [
    "### For monk3"
   ]
  },
  {
   "cell_type": "code",
   "execution_count": 8,
   "metadata": {},
   "outputs": [
    {
     "name": "stdout",
     "output_type": "stream",
     "text": [
      "Attribute 1: 0.007120868396071844\n",
      "Attribute 2: 0.29373617350838865\n",
      "Attribute 3: 0.0008311140445336207\n",
      "Attribute 4: 0.002891817288654397\n",
      "Attribute 5: 0.25591172461972755\n",
      "Attribute 6: 0.007077026074097326\n"
     ]
    }
   ],
   "source": [
    "m3=m.monk3\n",
    "print(\"Attribute 1:\",averageGain(m3,m.attributes[0]))\n",
    "print(\"Attribute 2:\",averageGain(m3,m.attributes[1]))\n",
    "print(\"Attribute 3:\",averageGain(m3,m.attributes[2]))\n",
    "print(\"Attribute 4:\",averageGain(m3,m.attributes[3]))\n",
    "print(\"Attribute 5:\",averageGain(m3,m.attributes[4]))\n",
    "print(\"Attribute 6:\",averageGain(m3,m.attributes[5]))"
   ]
  },
  {
   "cell_type": "markdown",
   "metadata": {},
   "source": [
    "### Assignment 3"
   ]
  },
  {
   "cell_type": "markdown",
   "metadata": {},
   "source": [
    "The information gain is the greatest with attribute 5, so this attribute should be used for splitting the examples at the root node."
   ]
  },
  {
   "cell_type": "markdown",
   "metadata": {},
   "source": [
    "### Assignment4"
   ]
  },
  {
   "cell_type": "markdown",
   "metadata": {},
   "source": [
    "The information gain increases when the entropy of the subsets decreases. So to minimize the entropy (=minimize uncertainty) the information gain should be maximized. This is why the information gain can be used as a heuristic."
   ]
  },
  {
   "cell_type": "markdown",
   "metadata": {},
   "source": [
    "# 5. Building decision trees"
   ]
  },
  {
   "cell_type": "markdown",
   "metadata": {},
   "source": [
    "### Subset where A5=1"
   ]
  },
  {
   "cell_type": "code",
   "execution_count": 9,
   "metadata": {},
   "outputs": [
    {
     "name": "stdout",
     "output_type": "stream",
     "text": [
      "Attribute 1: 0.0\n",
      "Attribute 2: 0.0\n",
      "Attribute 3: 0.0\n",
      "Attribute 4: 0.0\n",
      "Attribute 6: 0.0\n"
     ]
    }
   ],
   "source": [
    "m1=m.monk1\n",
    "m1_5_is_1=select(m1,m.attributes[4],1)\n",
    "print(\"Attribute 1:\",averageGain(m1_5_is_1,m.attributes[0]))\n",
    "print(\"Attribute 2:\",averageGain(m1_5_is_1,m.attributes[1]))\n",
    "print(\"Attribute 3:\",averageGain(m1_5_is_1,m.attributes[2]))\n",
    "print(\"Attribute 4:\",averageGain(m1_5_is_1,m.attributes[3]))\n",
    "print(\"Attribute 6:\",averageGain(m1_5_is_1,m.attributes[5]))"
   ]
  },
  {
   "cell_type": "markdown",
   "metadata": {},
   "source": [
    "The gain information is zero for all attributes because there are only 'TRUE' in m1_5_is_2"
   ]
  },
  {
   "cell_type": "code",
   "execution_count": 13,
   "metadata": {},
   "outputs": [
    {
     "data": {
      "text/plain": [
       "True"
      ]
     },
     "execution_count": 13,
     "metadata": {},
     "output_type": "execute_result"
    }
   ],
   "source": [
    "mostCommon(m1_5_is_1)"
   ]
  },
  {
   "cell_type": "markdown",
   "metadata": {},
   "source": [
    "### Subset where A5=2"
   ]
  },
  {
   "cell_type": "code",
   "execution_count": 16,
   "metadata": {},
   "outputs": [
    {
     "name": "stdout",
     "output_type": "stream",
     "text": [
      "Attribute 1: 0.040216841609413634\n",
      "Attribute 2: 0.015063475072186083\n",
      "Attribute 3: 0.03727262736015946\n",
      "Attribute 4: 0.04889220262952931\n",
      "Attribute 6: 0.025807284723902146\n"
     ]
    }
   ],
   "source": [
    "m1_5_is_2=select(m1,m.attributes[4],2)\n",
    "print(\"Attribute 1:\",averageGain(m1_5_is_2,m.attributes[0]))\n",
    "print(\"Attribute 2:\",averageGain(m1_5_is_2,m.attributes[1]))\n",
    "print(\"Attribute 3:\",averageGain(m1_5_is_2,m.attributes[2]))\n",
    "print(\"Attribute 4:\",averageGain(m1_5_is_2,m.attributes[3]))\n",
    "print(\"Attribute 6:\",averageGain(m1_5_is_2,m.attributes[5]))"
   ]
  },
  {
   "cell_type": "markdown",
   "metadata": {},
   "source": [
    "We should test attribute 4"
   ]
  },
  {
   "cell_type": "markdown",
   "metadata": {},
   "source": [
    "We study the different cases: a4=1; a4=2; a4=3"
   ]
  },
  {
   "cell_type": "code",
   "execution_count": 17,
   "metadata": {},
   "outputs": [
    {
     "data": {
      "text/plain": [
       "False"
      ]
     },
     "execution_count": 17,
     "metadata": {},
     "output_type": "execute_result"
    }
   ],
   "source": [
    "m1_5_is_2_4_is_1=select(m1_5_is_2,m.attributes[3],1)\n",
    "mostCommon(m1_5_is_2_4_is_1)"
   ]
  },
  {
   "cell_type": "code",
   "execution_count": 18,
   "metadata": {},
   "outputs": [
    {
     "data": {
      "text/plain": [
       "False"
      ]
     },
     "execution_count": 18,
     "metadata": {},
     "output_type": "execute_result"
    }
   ],
   "source": [
    "m1_5_is_2_4_is_2=select(m1_5_is_2,m.attributes[3],2)\n",
    "mostCommon(m1_5_is_2_4_is_2)"
   ]
  },
  {
   "cell_type": "code",
   "execution_count": 20,
   "metadata": {},
   "outputs": [
    {
     "data": {
      "text/plain": [
       "False"
      ]
     },
     "execution_count": 20,
     "metadata": {},
     "output_type": "execute_result"
    }
   ],
   "source": [
    "m1_5_is_2_4_is_3=select(m1_5_is_2,m.attributes[3],3)\n",
    "mostCommon(m1_5_is_2_4_is_3)"
   ]
  },
  {
   "cell_type": "markdown",
   "metadata": {},
   "source": [
    "### Subset where A5=3"
   ]
  },
  {
   "cell_type": "code",
   "execution_count": 23,
   "metadata": {},
   "outputs": [
    {
     "name": "stdout",
     "output_type": "stream",
     "text": [
      "Attribute 1: 0.03305510013455182\n",
      "Attribute 2: 0.002197183539100922\n",
      "Attribute 3: 0.017982293842278896\n",
      "Attribute 4: 0.01912275517747053\n",
      "Attribute 6: 0.04510853782483648\n"
     ]
    }
   ],
   "source": [
    "m1_5_is_3=select(m1,m.attributes[4],3)\n",
    "print(\"Attribute 1:\",averageGain(m1_5_is_3,m.attributes[0]))\n",
    "print(\"Attribute 2:\",averageGain(m1_5_is_3,m.attributes[1]))\n",
    "print(\"Attribute 3:\",averageGain(m1_5_is_3,m.attributes[2]))\n",
    "print(\"Attribute 4:\",averageGain(m1_5_is_3,m.attributes[3]))\n",
    "print(\"Attribute 6:\",averageGain(m1_5_is_3,m.attributes[5]))"
   ]
  },
  {
   "cell_type": "markdown",
   "metadata": {},
   "source": [
    "We should test attribute 6"
   ]
  },
  {
   "cell_type": "markdown",
   "metadata": {},
   "source": [
    "We study the different cases: a6=1; a6=2"
   ]
  },
  {
   "cell_type": "code",
   "execution_count": 24,
   "metadata": {},
   "outputs": [
    {
     "data": {
      "text/plain": [
       "False"
      ]
     },
     "execution_count": 24,
     "metadata": {},
     "output_type": "execute_result"
    }
   ],
   "source": [
    "m1_5_is_3_6_is_1=select(m1_5_is_3,m.attributes[5],1)\n",
    "mostCommon(m1_5_is_3_6_is_1)"
   ]
  },
  {
   "cell_type": "code",
   "execution_count": 25,
   "metadata": {},
   "outputs": [
    {
     "data": {
      "text/plain": [
       "False"
      ]
     },
     "execution_count": 25,
     "metadata": {},
     "output_type": "execute_result"
    }
   ],
   "source": [
    "m1_5_is_3_6_is_2=select(m1_5_is_3,m.attributes[5],2)\n",
    "mostCommon(m1_5_is_3_6_is_2)"
   ]
  },
  {
   "cell_type": "markdown",
   "metadata": {},
   "source": [
    "### Subset where A5=4"
   ]
  },
  {
   "cell_type": "code",
   "execution_count": 27,
   "metadata": {},
   "outputs": [
    {
     "name": "stdout",
     "output_type": "stream",
     "text": [
      "Attribute 1: 0.20629074641530198\n",
      "Attribute 2: 0.033898395077640586\n",
      "Attribute 3: 0.025906145434984817\n",
      "Attribute 4: 0.07593290844153944\n",
      "Attribute 6: 0.0033239629631565126\n"
     ]
    }
   ],
   "source": [
    "m1_5_is_4=select(m1,m.attributes[4],4)\n",
    "print(\"Attribute 1:\",averageGain(m1_5_is_4,m.attributes[0]))\n",
    "print(\"Attribute 2:\",averageGain(m1_5_is_4,m.attributes[1]))\n",
    "print(\"Attribute 3:\",averageGain(m1_5_is_4,m.attributes[2]))\n",
    "print(\"Attribute 4:\",averageGain(m1_5_is_4,m.attributes[3]))\n",
    "print(\"Attribute 6:\",averageGain(m1_5_is_4,m.attributes[5]))"
   ]
  },
  {
   "cell_type": "markdown",
   "metadata": {},
   "source": [
    "We should test attribute 1"
   ]
  },
  {
   "cell_type": "markdown",
   "metadata": {},
   "source": [
    "We study the different cases: a1=1; a1=2; a1=3"
   ]
  },
  {
   "cell_type": "code",
   "execution_count": 32,
   "metadata": {},
   "outputs": [
    {
     "data": {
      "text/plain": [
       "False"
      ]
     },
     "execution_count": 32,
     "metadata": {},
     "output_type": "execute_result"
    }
   ],
   "source": [
    "m1_5_is_4_1_is_1=select(m1_5_is_4,m.attributes[0],1)\n",
    "mostCommon(m1_5_is_4_1_is_1)"
   ]
  },
  {
   "cell_type": "code",
   "execution_count": 33,
   "metadata": {},
   "outputs": [
    {
     "data": {
      "text/plain": [
       "False"
      ]
     },
     "execution_count": 33,
     "metadata": {},
     "output_type": "execute_result"
    }
   ],
   "source": [
    "m1_5_is_4_1_is_2=select(m1_5_is_4,m.attributes[0],2)\n",
    "mostCommon(m1_5_is_4_1_is_2)"
   ]
  },
  {
   "cell_type": "code",
   "execution_count": 34,
   "metadata": {},
   "outputs": [
    {
     "data": {
      "text/plain": [
       "True"
      ]
     },
     "execution_count": 34,
     "metadata": {},
     "output_type": "execute_result"
    }
   ],
   "source": [
    "m1_5_is_4_1_is_3=select(m1_5_is_4,m.attributes[0],3)\n",
    "mostCommon(m1_5_is_4_1_is_3)"
   ]
  },
  {
   "cell_type": "code",
   "execution_count": 36,
   "metadata": {},
   "outputs": [
    {
     "name": "stdout",
     "output_type": "stream",
     "text": [
      "A5(+A4(---)A6(--)A1(--+))\n",
      "0.7222222222222222\n"
     ]
    }
   ],
   "source": [
    "t=buildTree(m.monk1,m.attributes,2)\n",
    "print(t)\n",
    "print(check(t,m.monk1test))"
   ]
  },
  {
   "cell_type": "markdown",
   "metadata": {},
   "source": [
    "We find the same tree with function buildTree"
   ]
  },
  {
   "cell_type": "markdown",
   "metadata": {},
   "source": [
    "### Assignment 5\n",
    "\n",
    "building the full tree"
   ]
  },
  {
   "cell_type": "code",
   "execution_count": 51,
   "metadata": {},
   "outputs": [
    {
     "name": "stdout",
     "output_type": "stream",
     "text": [
      "0.8287037037037037\n",
      "1.0\n"
     ]
    }
   ],
   "source": [
    "t1=buildTree(m.monk1,m.attributes)\n",
    "print(check(t1,m.monk1test))\n",
    "print(check(t1,m.monk1))"
   ]
  },
  {
   "cell_type": "code",
   "execution_count": 53,
   "metadata": {},
   "outputs": [
    {
     "name": "stdout",
     "output_type": "stream",
     "text": [
      "0.6921296296296297\n",
      "1.0\n"
     ]
    }
   ],
   "source": [
    "t2=buildTree(m.monk2,m.attributes)\n",
    "print(check(t2,m.monk2test))\n",
    "print(check(t2,m.monk2))"
   ]
  },
  {
   "cell_type": "code",
   "execution_count": 54,
   "metadata": {},
   "outputs": [
    {
     "name": "stdout",
     "output_type": "stream",
     "text": [
      "0.9444444444444444\n",
      "1.0\n"
     ]
    }
   ],
   "source": [
    "t3=buildTree(m.monk3,m.attributes)\n",
    "print(check(t3,m.monk3test))\n",
    "print(check(t3,m.monk3))"
   ]
  },
  {
   "cell_type": "markdown",
   "metadata": {},
   "source": [
    "Our asumption was incorrect, monk2 is the worse dataset. There is no error with the training set since the model was train with this dataset"
   ]
  },
  {
   "cell_type": "markdown",
   "metadata": {},
   "source": [
    "# 6. Pruning\n",
    "\n",
    "### Assignment 6 \n",
    "Pruning reduces the number of nodes and leads to a less complex model. Since the number of nodes decreases the model may be less accurate: the bias increases. But since the model is les complex, the variance decreases. This is a way to avoid overfitting"
   ]
  },
  {
   "cell_type": "code",
   "execution_count": 41,
   "metadata": {
    "collapsed": true
   },
   "outputs": [],
   "source": [
    "import random\n",
    "\n",
    "def partition(data, fraction):\n",
    "    ldata = list(data)\n",
    "    random.shuffle(ldata)\n",
    "    breakPoint = int(len(ldata) * fraction)\n",
    "    return ldata[:breakPoint], ldata[breakPoint:]\n",
    "\n",
    "monk1train, monk1val = partition(m.monk1, 0.6)\n",
    "t=buildTree(monk1train,m.attributes)"
   ]
  },
  {
   "cell_type": "code",
   "execution_count": 42,
   "metadata": {},
   "outputs": [
    {
     "name": "stdout",
     "output_type": "stream",
     "text": [
      "A5(+A4(A2(+A1(-+-)A1(--+))A2(-+-)A3(+-))A4(A1(+A2(-+-)+)A1(A2(+--)A2(-+-)-)A2(+-A1(--+)))A1(-A2(-+-)A2(--+)))\n"
     ]
    }
   ],
   "source": [
    "print(t)"
   ]
  },
  {
   "cell_type": "code",
   "execution_count": 46,
   "metadata": {},
   "outputs": [
    {
     "ename": "SystemExit",
     "evalue": "0",
     "output_type": "error",
     "traceback": [
      "An exception has occurred, use %tb to see the full traceback.\n",
      "\u001b[1;31mSystemExit\u001b[0m\u001b[1;31m:\u001b[0m 0\n"
     ]
    },
    {
     "name": "stderr",
     "output_type": "stream",
     "text": [
      "C:\\ProgramData\\Anaconda3\\lib\\site-packages\\IPython\\core\\interactiveshell.py:2870: UserWarning: To exit: use 'exit', 'quit', or Ctrl-D.\n",
      "  warn(\"To exit: use 'exit', 'quit', or Ctrl-D.\", stacklevel=1)\n"
     ]
    }
   ],
   "source": [
    "drawTree(t)"
   ]
  },
  {
   "cell_type": "code",
   "execution_count": 47,
   "metadata": {
    "collapsed": true,
    "scrolled": true
   },
   "outputs": [],
   "source": [
    "import dtree as d\n",
    "\n",
    "def pruning(t,monkval):\n",
    "    stop=False\n",
    "    while stop==False:\n",
    "        updated=False\n",
    "        listOfTrees=d.allPruned(t) #contains all the tree that can be obtained after pruning t\n",
    "        max=d.check(t,monkval) #best performance so far\n",
    "        for i in range(len(listOfTrees)):\n",
    "            if d.check(listOfTrees[i],monkval) >= max: #a better tree has been found\n",
    "                max=d.check(listOfTrees[i],monkval)\n",
    "                t=listOfTrees[i] #the tree is updated\n",
    "                updated=True\n",
    "        if updated==False: #no better tree has been found\n",
    "            stop=True\n",
    "    return(t)"
   ]
  },
  {
   "cell_type": "code",
   "execution_count": 48,
   "metadata": {},
   "outputs": [
    {
     "data": {
      "text/plain": [
       "A5(+--A1(-A2(-+-)A2(--+)))"
      ]
     },
     "execution_count": 48,
     "metadata": {},
     "output_type": "execute_result"
    }
   ],
   "source": [
    "pruning(t,monk1val)"
   ]
  },
  {
   "cell_type": "markdown",
   "metadata": {},
   "source": [
    "### Assignment 7\n",
    "\n",
    "We want to find the best way to do the partition between training set and validation set. For each value of 'partition', we run 1000 simulations and compute the mean and standard deviation."
   ]
  },
  {
   "cell_type": "markdown",
   "metadata": {},
   "source": [
    "For monk1:"
   ]
  },
  {
   "cell_type": "code",
   "execution_count": 49,
   "metadata": {},
   "outputs": [
    {
     "name": "stdout",
     "output_type": "stream",
     "text": [
      "no runtime error\n"
     ]
    }
   ],
   "source": [
    "n=1000\n",
    "results=[[0 for i in range (n)] for j in range(6)]\n",
    "\n",
    "for j in range(6):\n",
    "    fraction=0.3+0.1*j\n",
    "        \n",
    "    for k in range(n):\n",
    "        monk1train, monk1val = partition(m.monk1,fraction)\n",
    "        t=d.buildTree(monk1train,m.attributes)\n",
    "        t=pruning(t,monk1val)\n",
    "        results[j][k]=d.check(t,m.monk1test)\n",
    "print(\"no runtime error\")"
   ]
  },
  {
   "cell_type": "code",
   "execution_count": 55,
   "metadata": {
    "collapsed": true
   },
   "outputs": [],
   "source": [
    "fraction=np.linspace(0.3,0.8,6)"
   ]
  },
  {
   "cell_type": "code",
   "execution_count": 56,
   "metadata": {
    "scrolled": true
   },
   "outputs": [
    {
     "data": {
      "image/png": "[encoded data removed]",
      "text/plain": [
       "<matplotlib.figure.Figure at 0x29c33709da0>"
      ]
     },
     "metadata": {},
     "output_type": "display_data"
    }
   ],
   "source": [
    "mean=np.mean(results,axis=1)\n",
    "plt.plot(fraction,mean,'.')\n",
    "plt.xlabel('fraction')\n",
    "plt.ylabel('mean error for 1000 simulations')\n",
    "plt.show()\n",
    "plt.close()"
   ]
  },
  {
   "cell_type": "code",
   "execution_count": 57,
   "metadata": {},
   "outputs": [
    {
     "name": "stdout",
     "output_type": "stream",
     "text": [
      "0.803527777778\n"
     ]
    }
   ],
   "source": [
    "print(mean[3])"
   ]
  },
  {
   "cell_type": "markdown",
   "metadata": {},
   "source": [
    "The model is less accurate but simpler"
   ]
  },
  {
   "cell_type": "code",
   "execution_count": 227,
   "metadata": {
    "scrolled": false
   },
   "outputs": [
    {
     "data": {
      "image/png": "[encoded data removed]",
      "text/plain": [
       "<matplotlib.figure.Figure at 0x21b32a9ebe0>"
      ]
     },
     "metadata": {},
     "output_type": "display_data"
    }
   ],
   "source": [
    "std=np.std(results,axis=1)\n",
    "plt.plot(fraction,std,'.')\n",
    "plt.xlabel('fraction')\n",
    "plt.ylabel('standard deviation for 1000 simulations')\n",
    "plt.show()\n",
    "plt.close()"
   ]
  },
  {
   "cell_type": "markdown",
   "metadata": {},
   "source": [
    "For monk3"
   ]
  },
  {
   "cell_type": "code",
   "execution_count": 59,
   "metadata": {
    "collapsed": true
   },
   "outputs": [],
   "source": [
    "n=1000\n",
    "results=[[0 for i in range (n)] for j in range(6)]\n",
    "\n",
    "for j in range(6):\n",
    "    fraction=0.3+0.1*j\n",
    "        \n",
    "    for k in range(n):\n",
    "        monk3train, monk3val = partition(m.monk3,fraction)\n",
    "        t=d.buildTree(monk3train,m.attributes)\n",
    "        t=pruning(t,monk3val)\n",
    "        results[j][k]=d.check(t,m.monk3test)"
   ]
  },
  {
   "cell_type": "code",
   "execution_count": 60,
   "metadata": {
    "collapsed": true
   },
   "outputs": [],
   "source": [
    "fraction=np.linspace(0.3,0.8,6)"
   ]
  },
  {
   "cell_type": "code",
   "execution_count": 64,
   "metadata": {
    "scrolled": true
   },
   "outputs": [
    {
     "data": {
      "image/png": "[encoded data removed]",
      "text/plain": [
       "<matplotlib.figure.Figure at 0x29c35cdf198>"
      ]
     },
     "metadata": {},
     "output_type": "display_data"
    }
   ],
   "source": [
    "mean=np.mean(results,axis=1)\n",
    "plt.plot(fraction,mean,'.')\n",
    "plt.xlabel('fraction')\n",
    "plt.ylabel('mean error for 100 simulations')\n",
    "plt.show()\n",
    "plt.close()"
   ]
  },
  {
   "cell_type": "code",
   "execution_count": 65,
   "metadata": {},
   "outputs": [
    {
     "name": "stdout",
     "output_type": "stream",
     "text": [
      "0.968041666667\n"
     ]
    }
   ],
   "source": [
    "print(mean[4])"
   ]
  },
  {
   "cell_type": "markdown",
   "metadata": {},
   "source": [
    "The model is better after pruning"
   ]
  },
  {
   "cell_type": "code",
   "execution_count": 66,
   "metadata": {},
   "outputs": [
    {
     "data": {
      "image/png": "[encoded data removed]",
      "text/plain": [
       "<matplotlib.figure.Figure at 0x29c35cf4d68>"
      ]
     },
     "metadata": {},
     "output_type": "display_data"
    }
   ],
   "source": [
    "std=np.std(results,axis=1)\n",
    "plt.plot(fraction,std,'.')\n",
    "plt.xlabel('fraction')\n",
    "plt.ylabel('standard deviation for 1000 simulations')\n",
    "plt.show()\n",
    "plt.close()"
   ]
  },
  {
   "cell_type": "code",
   "execution_count": null,
   "metadata": {
    "collapsed": true
   },
   "outputs": [],
   "source": []
  }
 ],
 "metadata": {
  "kernelspec": {
   "display_name": "Python 3",
   "language": "python",
   "name": "python3"
  },
  "language_info": {
   "codemirror_mode": {
    "name": "ipython",
    "version": 3
   },
   "file_extension": ".py",
   "mimetype": "text/x-python",
   "name": "python",
   "nbconvert_exporter": "python",
   "pygments_lexer": "ipython3",
   "version": "3.6.3"
  }
 },
 "nbformat": 4,
 "nbformat_minor": 2
}
