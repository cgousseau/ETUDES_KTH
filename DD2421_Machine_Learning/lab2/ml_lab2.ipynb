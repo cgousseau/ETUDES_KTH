{
 "cells": [
  {
   "cell_type": "markdown",
   "metadata": {},
   "source": [
    "# Machine Learning: assignment 2 (Support Vector Machine)\n",
    "\n",
    "Patrik Amethier & Clément Gousseau"
   ]
  },
  {
   "cell_type": "code",
   "execution_count": 669,
   "metadata": {
    "collapsed": true
   },
   "outputs": [],
   "source": [
    "import numpy, random, math\n",
    "from scipy.optimize import minimize\n",
    "import matplotlib.pyplot as plt"
   ]
  },
  {
   "cell_type": "markdown",
   "metadata": {},
   "source": [
    "## Data"
   ]
  },
  {
   "cell_type": "code",
   "execution_count": 670,
   "metadata": {},
   "outputs": [],
   "source": [
    "numpy.random.seed(100)\n",
    "\n",
    "classA=numpy.concatenate((numpy.random.randn(10,2)*0.4+[1.5,0.5],numpy.random.randn(10,2)*0.4+[-1.5,0.5]))\n",
    "classB=numpy.random.randn(20,2)*0.4+[0,-0.5]\n",
    "\n",
    "\n",
    "inputs=numpy.concatenate((classA,classB))\n",
    "target=numpy.concatenate((numpy.ones(classA.shape[0]),-numpy.ones(classB.shape[0])))\n",
    "\n",
    "N=inputs.shape[0]\n",
    "\n",
    "permute=list(range(N))\n",
    "random.shuffle(permute)\n",
    "inputs=inputs[permute,:]\n",
    "target=target[permute]"
   ]
  },
  {
   "cell_type": "markdown",
   "metadata": {},
   "source": [
    "## Implementation"
   ]
  },
  {
   "cell_type": "code",
   "execution_count": 671,
   "metadata": {
    "scrolled": true
   },
   "outputs": [],
   "source": [
    "numpy.size(inputs)\n",
    "\n",
    "## Kernels\n",
    "def kernellin(a,b):\n",
    "    return numpy.dot(a,b)\n",
    "\n",
    "def kernelpoly(a,b):\n",
    "    return (numpy.dot(a,b)+1)**3\n",
    "    \n",
    "def kernelradial(a,b,sigma):\n",
    "    return math.exp(-numpy.dot(a-b,a-b)/(2*sigma**2))\n",
    "\n",
    "## Objective function\n",
    "P=numpy.zeros((N,N))\n",
    "for i in range(0,N):\n",
    "    for j in range(0,N):\n",
    "        P[i][j]=target[i]*target[j]*kernellin(inputs[:][i],inputs[:][j])\n",
    "\n",
    "def objective(alpha):\n",
    "    sum1=0\n",
    "    sum2=0\n",
    "    for i in range(0,N):\n",
    "        for j in range (0,N):\n",
    "            sum1=sum1+alpha[i]*alpha[j]*P[i][j]\n",
    "        sum2=sum2+alpha[i]\n",
    "    return 0.5*sum1-sum2\n",
    "\n",
    "def zerofun(alpha):\n",
    "    return numpy.dot(alpha,target)\n",
    "\n",
    "## Minimize\n",
    "C=10000\n",
    "start=numpy.zeros(N)\n",
    "ret=minimize(objective,start,bounds=[(0,C) for b in range(N)],constraints={'type':'eq','fun':zerofun})\n",
    "alpha=ret['x']\n",
    "\n",
    "## Take the non zero alphas\n",
    "nonzeroalpha=[(x>10**-5)*x for x in alpha]\n",
    "\n",
    "## Finding a support vector\n",
    "supportIndex=0\n",
    "for i in range(0,N):\n",
    "    if (nonzeroalpha[i]>0):\n",
    "        supportIndex=i\n",
    "        break\n",
    "\n",
    "## Compute b\n",
    "b=0\n",
    "for i in range(0,N):\n",
    "    b=b+nonzeroalpha[i]*target[i]*kernellin(inputs[supportIndex][:],inputs[i][:])\n",
    "b=b-target[supportIndex]\n",
    "\n",
    "## Compute indicator\n",
    "def indicator(sx,sy):\n",
    "    s=[sx,sy]\n",
    "    sum=0\n",
    "    for i in range(0,N):\n",
    "        sum=sum+nonzeroalpha[i]*target[i]*kernellin(s,inputs[i][:])\n",
    "    sum=sum-b\n",
    "    return sum"
   ]
  },
  {
   "cell_type": "markdown",
   "metadata": {},
   "source": [
    "## Plotting the decision boundary"
   ]
  },
  {
   "cell_type": "code",
   "execution_count": 672,
   "metadata": {},
   "outputs": [
    {
     "data": {
      "image/png": "[encoded data removed]",
      "text/plain": [
       "<matplotlib.figure.Figure at 0x1d4680d5710>"
      ]
     },
     "metadata": {},
     "output_type": "display_data"
    }
   ],
   "source": [
    "plt.plot([p[0] for p in classA ],[p[1] for p in classA ],'b.')\n",
    "plt.plot( [p[0] for p in classB ] , [p[1] for p in classB ] , 'r.' )\n",
    "\n",
    "xgrid=numpy.linspace(-4,3)\n",
    "ygrid=numpy.linspace(-3,3)\n",
    "grid=numpy.array([[indicator(x,y) for x in xgrid] for y in ygrid])\n",
    "\n",
    "plt.contour(xgrid,ygrid,grid,(-1,0,1),colors=('red','black','blue'),linewidths=(1,3,1))\n",
    "plt.show()\n",
    "plt.savefig('svmplot.jpeg') # Save a copy in a file \n"
   ]
  },
  {
   "cell_type": "code",
   "execution_count": null,
   "metadata": {
    "collapsed": true
   },
   "outputs": [],
   "source": []
  }
 ],
 "metadata": {
  "kernelspec": {
   "display_name": "Python 3",
   "language": "python",
   "name": "python3"
  },
  "language_info": {
   "codemirror_mode": {
    "name": "ipython",
    "version": 3
   },
   "file_extension": ".py",
   "mimetype": "text/x-python",
   "name": "python",
   "nbconvert_exporter": "python",
   "pygments_lexer": "ipython3",
   "version": "3.6.3"
  }
 },
 "nbformat": 4,
 "nbformat_minor": 2
}
